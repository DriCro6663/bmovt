{
 "cells": [
  {
   "cell_type": "code",
   "execution_count": null,
   "metadata": {},
   "outputs": [],
   "source": [
    "import sys\n",
    "from pathlib import Path\n",
    "parent_dir = str(Path().resolve().parent)\n",
    "sys.path.append(parent_dir)\n",
    "from bmovt import *"
   ]
  },
  {
   "cell_type": "code",
   "execution_count": null,
   "metadata": {},
   "outputs": [],
   "source": [
    "import sys\n",
    "import pprint\n",
    "\n",
    "pprint.pprint(sys.path)"
   ]
  },
  {
   "cell_type": "code",
   "execution_count": null,
   "metadata": {},
   "outputs": [],
   "source": [
    "from PIL import Image, ImageDraw, ImageFont\n",
    "import matplotlib.pyplot as plt\n",
    "\n",
    "bg = Image.new(\"RGBA\", (1920, 1080), (0, 0, 0, 255))\n",
    "font = ImageFont.truetype(\"../res/Myrica/Myrica.TTC\", 64)\n",
    "draw = ImageDraw.Draw(bg)\n",
    "txt = '''\n",
    "                       \"\"\"\"JJJJJJJJJJ\"\"\"\"                       \n",
    "                  \"\"JJJJJJJJJJJJJJJJJJJJJJJJ\"\"                  \n",
    "               \"JJJJJJJJJJJ!!!!!!!!!!JJJJJJJJJJJ\"               \n",
    "            \"JJJJJJJJ!!!```````^^rrr````!!!JJJJJJJJ\"            \n",
    "          \"JJJJJJJ!``````````^rrrrr^`````````!JJJJJJJ\"          \n",
    "        \"JJJJJJ!```````````^rrrrr^``````````````!JJJJJJ\"        \n",
    "   _rr\"JJJJJJ!```````````^rrrrr^``````````````````!JJJJJJ\"      \n",
    "  _rvJJJJJJ!```````````^rrrrr^`````````````````!!!!!!JJJJJ\"     \n",
    "  _vJJJJJJ````````````^rrrr^```!`````````````!\"     \"!JJJJJJ    \n",
    "   JJJJJv````````````^rrrr^`````!!!`````````!\" \"\"   \"v!!JJJJJ   \n",
    "  JJJJJvrr``````````^rrrr^``````!!`````````!\"  \"\"\" \"\"_J`!JJJJJ  \n",
    " \"JJJJJrrr`````````^rrrr^````````!!!``````!\"     \"\"\" \"!``JJJJJ\" \n",
    " JJJJJrrrrr```````^rrrr^```````````!J!!!!\"          \"!````JJJJJ \n",
    "\"JJJJ!^rrrr``````^rrrr^``````````````!\"\"           \"!`````!JJJJ\"\n",
    "JJJJJ``rrrrr````^rrrr^``````````````````!!!\"\"\"\"\"\"\"!````````JJJJJ\n",
    "JJJJJ``rrrrr```^rrrr^``````````````````````````````````````JJJJJ\n",
    "JJJJJ```rrrrr``rrrr^```````````````````````````````````````JJJJJ\n",
    "JJJJJ```rrrrr`rrrrr````!```````````````````````````````````JJJJJ\n",
    "\"JJJJ!```rrrr\"rrrr`````!!``````````!!!!!!`````````````````!JJJJ\"\n",
    " JJJJJ```^rriiirr^```!!``````````!\"      \"!```````````````JJJJJ \n",
    " \"JJJJJ```rrr\"vr^`````!!!```````!\" \"\"\"     J`````````````JJJJJ\" \n",
    "  JJJJJ!```^rrr^```````!!```````J       \"\" J````````````!JJJJJ  \n",
    "   JJJJJ!`````````````J````````J   \"\"\"\"\"   J```````````!JJJJJ   \n",
    "    JJJJJJ````````````!!!!!!!!\"      \"\"_\" J```````````JJJJJJ    \n",
    "     \"JJJJJ!````````````!\"\"\"\"           \"!``````````!JJJJJ\"     \n",
    "      \"JJJJJJ!```````````````!!!!!!\"\"\"!!``````````!JJJJJJ\"      \n",
    "        \"JJJJJJ!````````````````````````````````!JJJJJJ\"        \n",
    "          \"JJJJJJJ!``````````````````````````!JJJJJJJ\"          \n",
    "            \"JJJJJJJJ!!!````````````````!!!JJJJJJJJ\"            \n",
    "               \"JJJJJJJJJJJ!!!!!!!!!!JJJJJJJJJJJ\"               \n",
    "                  \"\"JJJJJJJJJJJJJJJJJJJJJJJJ\"\"                  \n",
    "                       \"\"\"\"JJJJJJJJJJ\"\"\"\"                       \n",
    "'''\n",
    "draw.text(\n",
    "    (0, 1080), txt, \n",
    "    fill=(255, 255, 255, 255), font=font, \n",
    "    anchor=\"ld\", spacing=4, \n",
    ")\n",
    "bg.save(\"sample.png\")\n",
    "#img = pil2cv(bg)\n",
    "#plt.imshow(img)"
   ]
  },
  {
   "cell_type": "code",
   "execution_count": null,
   "metadata": {},
   "outputs": [],
   "source": [
    "import os\n",
    "a = os.path.relpath(\"/config/mov_conf.yml\", os.getcwd())\n",
    "b = os.path.dirname(a)\n",
    "b"
   ]
  },
  {
   "cell_type": "code",
   "execution_count": null,
   "metadata": {},
   "outputs": [],
   "source": [
    "os.path.dirname(\"/config/mov_conf.yml\")"
   ]
  },
  {
   "cell_type": "code",
   "execution_count": null,
   "metadata": {},
   "outputs": [],
   "source": [
    "import sys\n",
    "from pathlib import Path\n",
    "parent_dir = str(Path().resolve())\n",
    "parent_dir"
   ]
  },
  {
   "cell_type": "code",
   "execution_count": null,
   "metadata": {},
   "outputs": [],
   "source": [
    "import sys\n",
    "from pathlib import Path\n",
    "parent_dir = str(Path().resolve().parent)\n",
    "sys.path.append(parent_dir)\n",
    "from bmovt import *\n",
    "\n",
    "if __name__ == \"__main__\":\n",
    "    os.getcwd()\n",
    "    bmovt = BmovT(\n",
    "        config_path=\"./config/mov_conf.yml\", \n",
    "        loading_path=\"./res/loading_text.txt\", \n",
    "        boot_path=\"./res/boot_text.txt\", \n",
    "    )\n",
    "    bmovt.output()"
   ]
  },
  {
   "cell_type": "code",
   "execution_count": null,
   "metadata": {},
   "outputs": [],
   "source": [
    "a = \"I am an\\nAstronaut\"\n",
    "a[:7]"
   ]
  },
  {
   "cell_type": "markdown",
   "metadata": {},
   "source": [
    "## ブート出力クラス"
   ]
  },
  {
   "cell_type": "code",
   "execution_count": null,
   "metadata": {},
   "outputs": [],
   "source": [
    "import sys\n",
    "from pathlib import Path\n",
    "parent_dir = str(Path().resolve().parent)\n",
    "sys.path.append(parent_dir)\n",
    "from bmovt import *\n",
    "\n"
   ]
  },
  {
   "cell_type": "code",
   "execution_count": null,
   "metadata": {},
   "outputs": [],
   "source": [
    "a = \"\"\"\n",
    "{\n",
    "    0: [\" \"], # sample\n",
    "    1: [\" \", \".\"],\n",
    "    2: [\"/\", \"-\", \"\\\\\"], \n",
    "    3: [\"Loading\", \"Loading.\", \"Loading..\", \"Loading...\"],\n",
    "}\n",
    "\"\"\"\n",
    "b = eval(a)\n",
    "print(b[2][2])"
   ]
  },
  {
   "cell_type": "code",
   "execution_count": null,
   "metadata": {},
   "outputs": [],
   "source": [
    "import yaml\n",
    "try:\n",
    "    from yaml import CLoader as Loader, CDumper as Dumper\n",
    "except ImportError:\n",
    "    from yaml import Loader, Dumper\n",
    "a = \"\"\"\n",
    "---\n",
    "0: !!python/tuple [0, 1]\n",
    "\"\"\"\n",
    "b = yaml.full_load(a)\n",
    "b"
   ]
  },
  {
   "cell_type": "code",
   "execution_count": null,
   "metadata": {},
   "outputs": [],
   "source": [
    "s = \"/\\*=+\\*/\\n+\"\n",
    "d = \"\"\"\n",
    "{LOADING: {TYPE: NONE, TIME: 0.0, INTERVAL: 0.0, UNIT: FRAME}, SHOW: {TYPE: F_BY_F, TIME: 1.0, INTERVAL: 0.1, UNIT: SEC}}\n",
    "module/platform/v76pc/kernel/Lux:tex data [0xfa0021,0xfx839d,]\n",
    "module disc /kernel:txt at [0xffa0d1,0xffa0dda1]\n",
    "System has successfully booted.\n",
    "\n",
    "/*==========================================================================================================================*/\n",
    "\n",
    "{LOADING: {TYPE: NONE, TIME: 0.0, INTERVAL: 0.0, UNIT: FRAME}, SHOW: {TYPE: F_BY_F, TIME: 1.0, INTERVAL: 0.1, UNIT: SEC}}\n",
    "Enter Your ID and Password...\n",
    "\"\"\"\n",
    "data = re.split(s, d)\n",
    "data"
   ]
  },
  {
   "cell_type": "code",
   "execution_count": null,
   "metadata": {},
   "outputs": [],
   "source": [
    "root, ext = os.path.splitext(\"./boot_sample.mp4\")\n",
    "min_path = f\"{root}-min{ext}\"\n",
    "min_path"
   ]
  },
  {
   "cell_type": "markdown",
   "metadata": {},
   "source": [
    "## 録画クラス"
   ]
  },
  {
   "cell_type": "code",
   "execution_count": null,
   "metadata": {},
   "outputs": [],
   "source": [
    "import cv2\n",
    "print(cv2.getBuildInformation())"
   ]
  },
  {
   "cell_type": "markdown",
   "metadata": {},
   "source": [
    "## "
   ]
  }
 ],
 "metadata": {
  "kernelspec": {
   "display_name": "BootMovMaker",
   "language": "python",
   "name": "bmovt"
  },
  "language_info": {
   "codemirror_mode": {
    "name": "ipython",
    "version": 3
   },
   "file_extension": ".py",
   "mimetype": "text/x-python",
   "name": "python",
   "nbconvert_exporter": "python",
   "pygments_lexer": "ipython3",
   "version": "3.10.8"
  },
  "orig_nbformat": 4
 },
 "nbformat": 4,
 "nbformat_minor": 2
}
